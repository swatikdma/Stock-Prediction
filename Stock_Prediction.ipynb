{
  "nbformat": 4,
  "nbformat_minor": 0,
  "metadata": {
    "colab": {
      "name": "Stock_Prediction",
      "provenance": [],
      "authorship_tag": "ABX9TyNsHL2iMEUeumpinRePHt4A",
      "include_colab_link": true
    },
    "kernelspec": {
      "name": "python3",
      "display_name": "Python 3"
    },
    "language_info": {
      "name": "python"
    }
  },
  "cells": [
    {
      "cell_type": "markdown",
      "metadata": {
        "id": "view-in-github",
        "colab_type": "text"
      },
      "source": [
        "<a href=\"https://colab.research.google.com/github/swatikdma/Stock-Prediction/blob/main/Stock_Prediction.ipynb\" target=\"_parent\"><img src=\"https://colab.research.google.com/assets/colab-badge.svg\" alt=\"Open In Colab\"/></a>"
      ]
    },
    {
      "cell_type": "markdown",
      "metadata": {
        "id": "Nq8Ismvc56lL"
      },
      "source": [
        "# Stock Price Prediction\n",
        "Machine learning has significant applications in the stock price prediction. In this machine learning project, we will be predicting the returns on stocks."
      ]
    },
    {
      "cell_type": "markdown",
      "metadata": {
        "id": "ePhOYOtE6FZ5"
      },
      "source": [
        "# DataSet\n",
        "\n",
        "1.   To build the stock price prediction model, we will use the NSE TATA GLOBAL dataset. This is a dataset of Tata Beverages from Tata Global Beverages Limited, National Stock Exchange of India: Tata Global Dataset\n",
        "\n",
        "2.   To develop the dashboard for stock analysis we will use another stock dataset with multiple stocks like Apple, Microsoft, Facebook: Stocks Dataset\n",
        "\n"
      ]
    },
    {
      "cell_type": "markdown",
      "metadata": {
        "id": "hljqK-F16wh9"
      },
      "source": [
        "\n",
        "*   Machine Learning has two types of Problems : \n",
        "      *   Classification Problems\n",
        "      *   Regression Problems\n",
        "* Stock price prediction is a Regression Problem.\n",
        "*   We have used the supervised learning.\n",
        "*   LSTM neural network model has been used for training purpose.\n",
        "\n"
      ]
    },
    {
      "cell_type": "markdown",
      "metadata": {
        "id": "pZ8cF6N55ypU"
      },
      "source": [
        "## Mounting Google Drive"
      ]
    },
    {
      "cell_type": "code",
      "metadata": {
        "colab": {
          "base_uri": "https://localhost:8080/"
        },
        "id": "Nnwy5YdVnnZQ",
        "outputId": "40c03d38-003f-4293-ebb5-427aa13f29f1"
      },
      "source": [
        "from google.colab import drive\n",
        "drive.mount('/content/drive')"
      ],
      "execution_count": 1,
      "outputs": [
        {
          "output_type": "stream",
          "text": [
            "Mounted at /content/drive\n"
          ],
          "name": "stdout"
        }
      ]
    },
    {
      "cell_type": "code",
      "metadata": {
        "colab": {
          "base_uri": "https://localhost:8080/",
          "height": 603
        },
        "id": "IKbU8NrVn4Jq",
        "outputId": "e9840b29-b93b-4cdb-cb4a-9578a8cb2981"
      },
      "source": [
        "import pandas as pd\n",
        "import numpy as np\n",
        "\n",
        "import matplotlib.pyplot as plt\n",
        "%matplotlib inline\n",
        "\n",
        "from matplotlib.pylab import rcParams\n",
        "rcParams['figure.figsize']=20,10\n",
        "\n",
        "from sklearn.preprocessing import MinMaxScaler\n",
        "scaler=MinMaxScaler(feature_range=(0,1))\n",
        "df=pd.read_csv(\"/content/drive/MyDrive/NSE-TATA.csv\")\n",
        "df.head()\n",
        "\n",
        "df[\"Date\"]=pd.to_datetime(df.Date,format=\"%Y-%m-%d\")\n",
        "df.index=df['Date']\n",
        "\n",
        "plt.figure(figsize=(16,8))\n",
        "plt.plot(df[\"Close\"],label='Close Price history')\n",
        "\n",
        "from keras.models import Sequential\n",
        "from keras.layers import LSTM,Dropout,Dense\n",
        "\n",
        "data=df.sort_index(ascending=True,axis=0)\n",
        "new_dataset=pd.DataFrame(index=range(0,len(df)),columns=['Date','Close'])\n",
        "\n",
        "for i in range(0,len(data)):\n",
        "    new_dataset[\"Date\"][i]=data['Date'][i]\n",
        "    new_dataset[\"Close\"][i]=data[\"Close\"][i]\n",
        "    \n",
        "\n",
        "new_dataset.index=new_dataset.Date\n",
        "new_dataset.drop(\"Date\",axis=1,inplace=True)\n",
        "\n",
        "final_dataset=new_dataset.values\n",
        "\n",
        "train_data=final_dataset[0:987,:]\n",
        "valid_data=final_dataset[987:,:]\n",
        "\n",
        "scaler=MinMaxScaler(feature_range=(0,1))\n",
        "scaled_data=scaler.fit_transform(final_dataset)\n",
        "\n",
        "x_train_data,y_train_data=[],[]\n",
        "\n",
        "for i in range(60,len(train_data)):\n",
        "    x_train_data.append(scaled_data[i-60:i,0])\n",
        "    y_train_data.append(scaled_data[i,0])\n",
        "    \n",
        "x_train_data,y_train_data=np.array(x_train_data),np.array(y_train_data)\n",
        "\n",
        "x_train_data=np.reshape(x_train_data,(x_train_data.shape[0],x_train_data.shape[1],1))\n",
        "\n",
        "lstm_model=Sequential()\n",
        "lstm_model.add(LSTM(units=50,return_sequences=True,input_shape=(x_train_data.shape[1],1)))\n",
        "lstm_model.add(LSTM(units=50))\n",
        "lstm_model.add(Dense(1))\n",
        "lstm_model.compile(loss='mean_squared_error',optimizer='adam')\n",
        "\n",
        "lstm_model.fit(x_train_data,y_train_data,epochs=1,batch_size=1,verbose=2)\n",
        "\n",
        "inputs_data=new_dataset[len(new_dataset)-len(valid_data)-60:].values\n",
        "inputs_data=inputs_data.reshape(-1,1)\n",
        "inputs_data=scaler.transform(inputs_data)\n",
        "\n",
        "y_test=[]\n",
        "X_test=[]\n",
        "for i in range(60,inputs_data.shape[0]):\n",
        "    X_test.append(inputs_data[i-60:i,0])\n",
        "    y_test.append(scaled_data[i-60:i,0])\n",
        "Y_test=np.array(y_test)\n",
        "X_test=np.array(X_test)\n",
        "\n",
        "\n",
        "X_test=np.reshape(X_test,(X_test.shape[0],X_test.shape[1],1))\n",
        "Closing_price=lstm_model.predict(X_test)\n",
        "closing_price=scaler.inverse_transform(Closing_price)\n",
        "\n",
        "lstm_model.save(\"/content/drive/MyDrive/PROJECT/saved_lstm_model.h5\")\n",
        "\n",
        "train_data=new_dataset[:987]\n",
        "valid_data=new_dataset[987:]\n",
        "valid_data['Predictions']=closing_price\n",
        "plt.plot(train_data[\"Close\"])\n",
        "plt.plot(valid_data[['Close',\"Predictions\"]])"
      ],
      "execution_count": 2,
      "outputs": [
        {
          "output_type": "stream",
          "text": [
            "927/927 - 31s - loss: 0.0010\n"
          ],
          "name": "stdout"
        },
        {
          "output_type": "stream",
          "text": [
            "/usr/local/lib/python3.7/dist-packages/ipykernel_launcher.py:82: SettingWithCopyWarning: \n",
            "A value is trying to be set on a copy of a slice from a DataFrame.\n",
            "Try using .loc[row_indexer,col_indexer] = value instead\n",
            "\n",
            "See the caveats in the documentation: https://pandas.pydata.org/pandas-docs/stable/user_guide/indexing.html#returning-a-view-versus-a-copy\n"
          ],
          "name": "stderr"
        },
        {
          "output_type": "execute_result",
          "data": {
            "text/plain": [
              "[<matplotlib.lines.Line2D at 0x7f43809abdd0>,\n",
              " <matplotlib.lines.Line2D at 0x7f438099f890>]"
            ]
          },
          "metadata": {
            "tags": []
          },
          "execution_count": 2
        },
        {
          "output_type": "display_data",
          "data": {
            "image/png": "[encoded data removed]",
            "text/plain": [
              "<Figure size 1152x576 with 1 Axes>"
            ]
          },
          "metadata": {
            "tags": [],
            "needs_background": "light"
          }
        }
      ]
    },
    {
      "cell_type": "markdown",
      "metadata": {
        "id": "Owfhv6TM6nHc"
      },
      "source": [
        "The green line shows the predicted Stock Prices."
      ]
    },
    {
      "cell_type": "code",
      "metadata": {
        "colab": {
          "base_uri": "https://localhost:8080/"
        },
        "id": "mLbHOYZICrV1",
        "outputId": "9200df4d-157c-4a23-c590-73ed5a75134c"
      },
      "source": [
        "type(Y_test)\n",
        "Y_test.shape"
      ],
      "execution_count": 3,
      "outputs": [
        {
          "output_type": "execute_result",
          "data": {
            "text/plain": [
              "(248, 60)"
            ]
          },
          "metadata": {
            "tags": []
          },
          "execution_count": 3
        }
      ]
    },
    {
      "cell_type": "code",
      "metadata": {
        "id": "dqUvxNkcCx7m"
      },
      "source": [
        "Y = (valid_data[['Close',\"Predictions\"]].to_numpy())"
      ],
      "execution_count": 4,
      "outputs": []
    },
    {
      "cell_type": "code",
      "metadata": {
        "colab": {
          "base_uri": "https://localhost:8080/"
        },
        "id": "DFQOIHCd3dQo",
        "outputId": "a8bff35f-6cf7-4662-e10c-c5df8c313519"
      },
      "source": [
        "import sklearn\n",
        "from sklearn.metrics import mean_squared_error\n",
        "errors = sklearn.metrics.mean_squared_error(Y[1], Y[0], squared=True)\n",
        "print(errors)"
      ],
      "execution_count": 5,
      "outputs": [
        {
          "output_type": "stream",
          "text": [
            "0.336830762699243\n"
          ],
          "name": "stdout"
        }
      ]
    },
    {
      "cell_type": "markdown",
      "metadata": {
        "id": "_5GlYZyxVwLv"
      },
      "source": [
        "# Dashboard for Stock Prediction"
      ]
    },
    {
      "cell_type": "code",
      "metadata": {
        "id": "yQijYwxMMkMq",
        "colab": {
          "base_uri": "https://localhost:8080/"
        },
        "outputId": "38e172f9-5225-487f-c036-a44879e56607"
      },
      "source": [
        "!pip install jupyter-dash -q"
      ],
      "execution_count": 6,
      "outputs": [
        {
          "output_type": "stream",
          "text": [
            "\u001b[K     |████████████████████████████████| 1.1 MB 8.9 MB/s \n",
            "\u001b[K     |████████████████████████████████| 3.7 MB 30.4 MB/s \n",
            "\u001b[K     |████████████████████████████████| 83 kB 943 kB/s \n",
            "\u001b[K     |████████████████████████████████| 1.8 MB 33.4 MB/s \n",
            "\u001b[K     |████████████████████████████████| 357 kB 39.4 MB/s \n",
            "\u001b[?25h  Building wheel for dash (setup.py) ... \u001b[?25l\u001b[?25hdone\n",
            "  Building wheel for dash-core-components (setup.py) ... \u001b[?25l\u001b[?25hdone\n",
            "  Building wheel for dash-html-components (setup.py) ... \u001b[?25l\u001b[?25hdone\n",
            "  Building wheel for dash-table (setup.py) ... \u001b[?25l\u001b[?25hdone\n"
          ],
          "name": "stdout"
        }
      ]
    },
    {
      "cell_type": "code",
      "metadata": {
        "colab": {
          "base_uri": "https://localhost:8080/",
          "height": 827
        },
        "id": "pkW2kUsqMqXb",
        "outputId": "6001276c-dfc6-4c22-cb9d-cbea48016bfa"
      },
      "source": [
        "import plotly.express as px\n",
        "from jupyter_dash import JupyterDash\n",
        "import dash_core_components as dcc\n",
        "import dash_html_components as html\n",
        "from dash.dependencies import Input, Output\n",
        "import plotly.graph_objs as go\n",
        "from keras.models import load_model\n",
        "from sklearn.preprocessing import MinMaxScaler\n",
        "import numpy as np\n",
        "\n",
        "# Load Data\n",
        "scaler=MinMaxScaler(feature_range=(0,1))\n",
        "\n",
        "\n",
        "\n",
        "df_nse = pd.read_csv(\"/content/drive/MyDrive/NSE-TATA.csv\")\n",
        "\n",
        "df_nse[\"Date\"]=pd.to_datetime(df_nse.Date,format=\"%Y-%m-%d\")\n",
        "df_nse.index=df_nse['Date']\n",
        "\n",
        "\n",
        "data=df_nse.sort_index(ascending=True,axis=0)\n",
        "new_data=pd.DataFrame(index=range(0,len(df_nse)),columns=['Date','Close'])\n",
        "\n",
        "for i in range(0,len(data)):\n",
        "    new_data[\"Date\"][i]=data['Date'][i]\n",
        "    new_data[\"Close\"][i]=data[\"Close\"][i]\n",
        "\n",
        "new_data.index=new_data.Date\n",
        "new_data.drop(\"Date\",axis=1,inplace=True)\n",
        "\n",
        "dataset=new_data.values\n",
        "\n",
        "train=dataset[0:987,:]\n",
        "valid=dataset[987:,:]\n",
        "\n",
        "scaler=MinMaxScaler(feature_range=(0,1))\n",
        "scaled_data=scaler.fit_transform(dataset)\n",
        "\n",
        "x_train,y_train=[],[]\n",
        "\n",
        "for i in range(60,len(train)):\n",
        "    x_train.append(scaled_data[i-60:i,0])\n",
        "    y_train.append(scaled_data[i,0])\n",
        "    \n",
        "x_train,y_train=np.array(x_train),np.array(y_train)\n",
        "\n",
        "x_train=np.reshape(x_train,(x_train.shape[0],x_train.shape[1],1))\n",
        "\n",
        "model=load_model(\"/content/drive/MyDrive/PROJECT/saved_lstm_model.h5\")\n",
        "\n",
        "inputs=new_data[len(new_data)-len(valid)-60:].values\n",
        "inputs=inputs.reshape(-1,1)\n",
        "inputs=scaler.transform(inputs)\n",
        "\n",
        "X_test=[]\n",
        "for i in range(60,inputs.shape[0]):\n",
        "    X_test.append(inputs[i-60:i,0])\n",
        "X_test=np.array(X_test)\n",
        "\n",
        "X_test=np.reshape(X_test,(X_test.shape[0],X_test.shape[1],1))\n",
        "closing_price=model.predict(X_test)\n",
        "closing_price=scaler.inverse_transform(closing_price)\n",
        "\n",
        "train=new_data[:987]\n",
        "valid=new_data[987:]\n",
        "valid['Predictions']=closing_price\n",
        "\n",
        "\n",
        "\n",
        "df= pd.read_csv(\"/content/drive/MyDrive/stock_data.csv\")\n",
        "# Build App\n",
        "app = JupyterDash(__name__)\n",
        "app.layout = html.Div([\n",
        "   \n",
        "    html.H1(\"Stock Price Analysis Dashboard\", style={\"textAlign\": \"center\"}),\n",
        "   \n",
        "    dcc.Tabs(id=\"tabs\", children=[\n",
        "       \n",
        "        dcc.Tab(label='NSE-TATAGLOBAL Stock Data',children=[\n",
        "\t\t\thtml.Div([\n",
        "\t\t\t\thtml.H2(\"Actual closing price\",style={\"textAlign\": \"center\"}),\n",
        "\t\t\t\tdcc.Graph(\n",
        "\t\t\t\t\tid=\"Actual Data\",\n",
        "\t\t\t\t\tfigure={\n",
        "\t\t\t\t\t\t\"data\":[\n",
        "\t\t\t\t\t\t\tgo.Scatter(\n",
        "\t\t\t\t\t\t\t\tx=train.index,\n",
        "\t\t\t\t\t\t\t\ty=valid[\"Close\"],\n",
        "\t\t\t\t\t\t\t\tmode='markers'\n",
        "\t\t\t\t\t\t\t)\n",
        "\n",
        "\t\t\t\t\t\t],\n",
        "\t\t\t\t\t\t\"layout\":go.Layout(\n",
        "\t\t\t\t\t\t\ttitle='scatter plot',\n",
        "\t\t\t\t\t\t\txaxis={'title':'Date'},\n",
        "\t\t\t\t\t\t\tyaxis={'title':'Closing Rate'}\n",
        "\t\t\t\t\t\t)\n",
        "\t\t\t\t\t}\n",
        "\n",
        "\t\t\t\t),\n",
        "\t\t\t\thtml.H2(\"LSTM Predicted closing price\",style={\"textAlign\": \"center\"}),\n",
        "\t\t\t\tdcc.Graph(\n",
        "\t\t\t\t\tid=\"Predicted Data\",\n",
        "\t\t\t\t\tfigure={\n",
        "\t\t\t\t\t\t\"data\":[\n",
        "\t\t\t\t\t\t\tgo.Scatter(\n",
        "\t\t\t\t\t\t\t\tx=valid.index,\n",
        "\t\t\t\t\t\t\t\ty=valid[\"Predictions\"],\n",
        "\t\t\t\t\t\t\t\tmode='markers'\n",
        "\t\t\t\t\t\t\t)\n",
        "\n",
        "\t\t\t\t\t\t],\n",
        "\t\t\t\t\t\t\"layout\":go.Layout(\n",
        "\t\t\t\t\t\t\ttitle='scatter plot',\n",
        "\t\t\t\t\t\t\txaxis={'title':'Date'},\n",
        "\t\t\t\t\t\t\tyaxis={'title':'Closing Rate'}\n",
        "\t\t\t\t\t\t)\n",
        "\t\t\t\t\t}\n",
        "\n",
        "\t\t\t\t)\t\t\t\t\n",
        "\t\t\t])        \t\t\n",
        "\n",
        "\n",
        "        ]),\n",
        "        dcc.Tab(label='Facebook Stock Data', children=[\n",
        "            html.Div([\n",
        "                html.H1(\"Stocks High vs Lows\", \n",
        "                        style={'textAlign': 'center'}),\n",
        "              \n",
        "                dcc.Dropdown(id='my-dropdown',\n",
        "                             options=[{'label': 'Tesla', 'value': 'TSLA'},\n",
        "                                      {'label': 'Apple','value': 'AAPL'}, \n",
        "                                      {'label': 'Facebook', 'value': 'FB'}, \n",
        "                                      {'label': 'Microsoft','value': 'MSFT'}], \n",
        "                             multi=True,value=['FB'],\n",
        "                             style={\"display\": \"block\", \"margin-left\": \"auto\", \n",
        "                                    \"margin-right\": \"auto\", \"width\": \"60%\"}),\n",
        "                dcc.Graph(id='highlow'),\n",
        "                html.H1(\"Stocks Market Volume\", style={'textAlign': 'center'}),\n",
        "         \n",
        "                dcc.Dropdown(id='my-dropdown2',\n",
        "                             options=[{'label': 'Tesla', 'value': 'TSLA'},\n",
        "                                      {'label': 'Apple','value': 'AAPL'}, \n",
        "                                      {'label': 'Facebook', 'value': 'FB'},\n",
        "                                      {'label': 'Microsoft','value': 'MSFT'}], \n",
        "                             multi=True,value=['FB'],\n",
        "                             style={\"display\": \"block\", \"margin-left\": \"auto\", \n",
        "                                    \"margin-right\": \"auto\", \"width\": \"60%\"}),\n",
        "                dcc.Graph(id='volume')\n",
        "            ], className=\"container\"),\n",
        "        ])\n",
        "\n",
        "\n",
        "    ])\n",
        "])\n",
        "@app.callback(Output('highlow', 'figure'),\n",
        "              [Input('my-dropdown', 'value')])\n",
        "def update_graph(selected_dropdown):\n",
        "    dropdown = {\"TSLA\": \"Tesla\",\"AAPL\": \"Apple\",\"FB\": \"Facebook\",\"MSFT\": \"Microsoft\",}\n",
        "    trace1 = []\n",
        "    trace2 = []\n",
        "    for stock in selected_dropdown:\n",
        "        trace1.append(\n",
        "          go.Scatter(x=df[df[\"Stock\"] == stock][\"Date\"],\n",
        "                     y=df[df[\"Stock\"] == stock][\"High\"],\n",
        "                     mode='lines', opacity=0.7, \n",
        "                     name=f'High {dropdown[stock]}',textposition='bottom center'))\n",
        "        trace2.append(\n",
        "          go.Scatter(x=df[df[\"Stock\"] == stock][\"Date\"],\n",
        "                     y=df[df[\"Stock\"] == stock][\"Low\"],\n",
        "                     mode='lines', opacity=0.6,\n",
        "                     name=f'Low {dropdown[stock]}',textposition='bottom center'))\n",
        "    traces = [trace1, trace2]\n",
        "    data = [val for sublist in traces for val in sublist]\n",
        "    figure = {'data': data,\n",
        "              'layout': go.Layout(colorway=[\"#5E0DAC\", '#FF4F00', '#375CB1', \n",
        "                                            '#FF7400', '#FFF400', '#FF0056'],\n",
        "            height=600,\n",
        "            title=f\"High and Low Prices for {', '.join(str(dropdown[i]) for i in selected_dropdown)} Over Time\",\n",
        "            xaxis={\"title\":\"Date\",\n",
        "                   'rangeselector': {'buttons': list([{'count': 1, 'label': '1M', \n",
        "                                                       'step': 'month', \n",
        "                                                       'stepmode': 'backward'},\n",
        "                                                      {'count': 6, 'label': '6M', \n",
        "                                                       'step': 'month', \n",
        "                                                       'stepmode': 'backward'},\n",
        "                                                      {'step': 'all'}])},\n",
        "                   'rangeslider': {'visible': True}, 'type': 'date'},\n",
        "             yaxis={\"title\":\"Price (USD)\"})}\n",
        "    return figure\n",
        "\n",
        "\n",
        "@app.callback(Output('volume', 'figure'),\n",
        "              [Input('my-dropdown2', 'value')])\n",
        "def update_graph(selected_dropdown_value):\n",
        "    dropdown = {\"TSLA\": \"Tesla\",\"AAPL\": \"Apple\",\"FB\": \"Facebook\",\"MSFT\": \"Microsoft\",}\n",
        "    trace1 = []\n",
        "    for stock in selected_dropdown_value:\n",
        "        trace1.append(\n",
        "          go.Scatter(x=df[df[\"Stock\"] == stock][\"Date\"],\n",
        "                     y=df[df[\"Stock\"] == stock][\"Volume\"],\n",
        "                     mode='lines', opacity=0.7,\n",
        "                     name=f'Volume {dropdown[stock]}', textposition='bottom center'))\n",
        "    traces = [trace1]\n",
        "    data = [val for sublist in traces for val in sublist]\n",
        "    figure = {'data': data, \n",
        "              'layout': go.Layout(colorway=[\"#5E0DAC\", '#FF4F00', '#375CB1', \n",
        "                                            '#FF7400', '#FFF400', '#FF0056'],\n",
        "            height=600,\n",
        "            title=f\"Market Volume for {', '.join(str(dropdown[i]) for i in selected_dropdown_value)} Over Time\",\n",
        "            xaxis={\"title\":\"Date\",\n",
        "                   'rangeselector': {'buttons': list([{'count': 1, 'label': '1M', \n",
        "                                                       'step': 'month', \n",
        "                                                       'stepmode': 'backward'},\n",
        "                                                      {'count': 6, 'label': '6M',\n",
        "                                                       'step': 'month', \n",
        "                                                       'stepmode': 'backward'},\n",
        "                                                      {'step': 'all'}])},\n",
        "                   'rangeslider': {'visible': True}, 'type': 'date'},\n",
        "             yaxis={\"title\":\"Transactions Volume\"})}\n",
        "    return figure\n",
        "\n",
        "# Run app and display result inline in the notebook\n",
        "app.run_server(mode='inline')"
      ],
      "execution_count": 7,
      "outputs": [
        {
          "output_type": "stream",
          "text": [
            "/usr/local/lib/python3.7/dist-packages/ipykernel_launcher.py:67: SettingWithCopyWarning:\n",
            "\n",
            "\n",
            "A value is trying to be set on a copy of a slice from a DataFrame.\n",
            "Try using .loc[row_indexer,col_indexer] = value instead\n",
            "\n",
            "See the caveats in the documentation: https://pandas.pydata.org/pandas-docs/stable/user_guide/indexing.html#returning-a-view-versus-a-copy\n",
            "\n"
          ],
          "name": "stderr"
        },
        {
          "output_type": "display_data",
          "data": {
            "application/javascript": [
              "(async (port, path, width, height, cache, element) => {\n",
              "    if (!google.colab.kernel.accessAllowed && !cache) {\n",
              "      return;\n",
              "    }\n",
              "    element.appendChild(document.createTextNode(''));\n",
              "    const url = await google.colab.kernel.proxyPort(port, {cache});\n",
              "    const iframe = document.createElement('iframe');\n",
              "    iframe.src = new URL(path, url).toString();\n",
              "    iframe.height = height;\n",
              "    iframe.width = width;\n",
              "    iframe.style.border = 0;\n",
              "    element.appendChild(iframe);\n",
              "  })(8050, \"/\", \"100%\", 650, false, window.element)"
            ],
            "text/plain": [
              "<IPython.core.display.Javascript object>"
            ]
          },
          "metadata": {
            "tags": []
          }
        }
      ]
    }
  ]
}